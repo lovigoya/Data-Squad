{
  "cells": [
    {
      "cell_type": "code",
      "source": [
        "!pip3 install transformers"
      ],
      "metadata": {
        "colab": {
          "base_uri": "https://localhost:8080/"
        },
        "id": "ghprrnCpYi1-",
        "outputId": "02a437f2-f909-42e3-b57c-ea065a66e022"
      },
      "execution_count": null,
      "outputs": [
        {
          "output_type": "stream",
          "name": "stdout",
          "text": [
            "Looking in indexes: https://pypi.org/simple, https://us-python.pkg.dev/colab-wheels/public/simple/\n",
            "Collecting transformers\n",
            "  Downloading transformers-4.20.1-py3-none-any.whl (4.4 MB)\n",
            "\u001b[K     |████████████████████████████████| 4.4 MB 5.3 MB/s \n",
            "\u001b[?25hRequirement already satisfied: numpy>=1.17 in /usr/local/lib/python3.7/dist-packages (from transformers) (1.21.6)\n",
            "Requirement already satisfied: tqdm>=4.27 in /usr/local/lib/python3.7/dist-packages (from transformers) (4.64.0)\n",
            "Collecting huggingface-hub<1.0,>=0.1.0\n",
            "  Downloading huggingface_hub-0.8.1-py3-none-any.whl (101 kB)\n",
            "\u001b[K     |████████████████████████████████| 101 kB 7.9 MB/s \n",
            "\u001b[?25hRequirement already satisfied: importlib-metadata in /usr/local/lib/python3.7/dist-packages (from transformers) (4.12.0)\n",
            "Collecting pyyaml>=5.1\n",
            "  Downloading PyYAML-6.0-cp37-cp37m-manylinux_2_5_x86_64.manylinux1_x86_64.manylinux_2_12_x86_64.manylinux2010_x86_64.whl (596 kB)\n",
            "\u001b[K     |████████████████████████████████| 596 kB 56.5 MB/s \n",
            "\u001b[?25hRequirement already satisfied: filelock in /usr/local/lib/python3.7/dist-packages (from transformers) (3.7.1)\n",
            "Requirement already satisfied: packaging>=20.0 in /usr/local/lib/python3.7/dist-packages (from transformers) (21.3)\n",
            "Collecting tokenizers!=0.11.3,<0.13,>=0.11.1\n",
            "  Downloading tokenizers-0.12.1-cp37-cp37m-manylinux_2_12_x86_64.manylinux2010_x86_64.whl (6.6 MB)\n",
            "\u001b[K     |████████████████████████████████| 6.6 MB 29.6 MB/s \n",
            "\u001b[?25hRequirement already satisfied: regex!=2019.12.17 in /usr/local/lib/python3.7/dist-packages (from transformers) (2022.6.2)\n",
            "Requirement already satisfied: requests in /usr/local/lib/python3.7/dist-packages (from transformers) (2.23.0)\n",
            "Requirement already satisfied: typing-extensions>=3.7.4.3 in /usr/local/lib/python3.7/dist-packages (from huggingface-hub<1.0,>=0.1.0->transformers) (4.1.1)\n",
            "Requirement already satisfied: pyparsing!=3.0.5,>=2.0.2 in /usr/local/lib/python3.7/dist-packages (from packaging>=20.0->transformers) (3.0.9)\n",
            "Requirement already satisfied: zipp>=0.5 in /usr/local/lib/python3.7/dist-packages (from importlib-metadata->transformers) (3.8.0)\n",
            "Requirement already satisfied: chardet<4,>=3.0.2 in /usr/local/lib/python3.7/dist-packages (from requests->transformers) (3.0.4)\n",
            "Requirement already satisfied: urllib3!=1.25.0,!=1.25.1,<1.26,>=1.21.1 in /usr/local/lib/python3.7/dist-packages (from requests->transformers) (1.24.3)\n",
            "Requirement already satisfied: idna<3,>=2.5 in /usr/local/lib/python3.7/dist-packages (from requests->transformers) (2.10)\n",
            "Requirement already satisfied: certifi>=2017.4.17 in /usr/local/lib/python3.7/dist-packages (from requests->transformers) (2022.6.15)\n",
            "Installing collected packages: pyyaml, tokenizers, huggingface-hub, transformers\n",
            "  Attempting uninstall: pyyaml\n",
            "    Found existing installation: PyYAML 3.13\n",
            "    Uninstalling PyYAML-3.13:\n",
            "      Successfully uninstalled PyYAML-3.13\n",
            "Successfully installed huggingface-hub-0.8.1 pyyaml-6.0 tokenizers-0.12.1 transformers-4.20.1\n"
          ]
        }
      ]
    },
    {
      "cell_type": "code",
      "source": [
        "!pip3 install torchmetrics"
      ],
      "metadata": {
        "colab": {
          "base_uri": "https://localhost:8080/"
        },
        "id": "oIudIlLTuspL",
        "outputId": "f885e92f-17e9-49f8-9216-9ea464ce3455"
      },
      "execution_count": null,
      "outputs": [
        {
          "output_type": "stream",
          "name": "stdout",
          "text": [
            "Looking in indexes: https://pypi.org/simple, https://us-python.pkg.dev/colab-wheels/public/simple/\n",
            "Collecting torchmetrics\n",
            "  Downloading torchmetrics-0.9.2-py3-none-any.whl (419 kB)\n",
            "\u001b[K     |████████████████████████████████| 419 kB 5.0 MB/s \n",
            "\u001b[?25hRequirement already satisfied: torch>=1.3.1 in /usr/local/lib/python3.7/dist-packages (from torchmetrics) (1.12.0+cu113)\n",
            "Requirement already satisfied: numpy>=1.17.2 in /usr/local/lib/python3.7/dist-packages (from torchmetrics) (1.21.6)\n",
            "Requirement already satisfied: typing-extensions in /usr/local/lib/python3.7/dist-packages (from torchmetrics) (4.1.1)\n",
            "Requirement already satisfied: packaging in /usr/local/lib/python3.7/dist-packages (from torchmetrics) (21.3)\n",
            "Requirement already satisfied: pyparsing!=3.0.5,>=2.0.2 in /usr/local/lib/python3.7/dist-packages (from packaging->torchmetrics) (3.0.9)\n",
            "Installing collected packages: torchmetrics\n",
            "Successfully installed torchmetrics-0.9.2\n"
          ]
        }
      ]
    },
    {
      "cell_type": "markdown",
      "source": [
        "## Importing the libraries"
      ],
      "metadata": {
        "id": "Ws_qnkzirmF6"
      }
    },
    {
      "cell_type": "code",
      "execution_count": null,
      "metadata": {
        "id": "A1o90ci1a8nv"
      },
      "outputs": [],
      "source": [
        "import numpy as np\n",
        "import pandas as pd\n",
        "import matplotlib.pyplot as plt\n",
        "import seaborn as sns\n",
        "import torch\n",
        "import torch.nn as nn\n",
        "import torch.nn.functional as F\n",
        "from torchtext.data import get_tokenizer\n",
        "from torch.utils.data.dataset import random_split\n",
        "from transformers import BertTokenizer\n",
        "from sklearn.model_selection import train_test_split\n",
        "from torch.autograd import Variable\n",
        "from torchmetrics import F1Score"
      ]
    },
    {
      "cell_type": "markdown",
      "source": [
        "## Loading the data"
      ],
      "metadata": {
        "id": "7PobMOk0KNZT"
      }
    },
    {
      "cell_type": "code",
      "execution_count": null,
      "metadata": {
        "id": "cqALsAXjiZEA"
      },
      "outputs": [],
      "source": [
        "df = pd.read_csv('quora_duplicate_questions.tsv', sep = '\\t')"
      ]
    },
    {
      "cell_type": "markdown",
      "source": [
        "## Removing Null records"
      ],
      "metadata": {
        "id": "kUGlh2kZKYnt"
      }
    },
    {
      "cell_type": "code",
      "execution_count": null,
      "metadata": {
        "id": "2V_GUunxnVQA"
      },
      "outputs": [],
      "source": [
        "df = df.dropna(how='any',axis=0) "
      ]
    },
    {
      "cell_type": "markdown",
      "source": [
        "## Finding the token frequency"
      ],
      "metadata": {
        "id": "C8ilfiYsK3-H"
      }
    },
    {
      "cell_type": "code",
      "execution_count": null,
      "metadata": {
        "id": "4B2e_6JGmRlm"
      },
      "outputs": [],
      "source": [
        "\n",
        "#que_df = df[[\"question1\"]]\n",
        "que_df = pd.concat((df['question1'], df['question2']),axis =0,ignore_index=True)\n",
        "#que_df[\"question1\"] = df[[\"question2\"]]\n",
        "que_df.columns = ['Questions']"
      ]
    },
    {
      "cell_type": "code",
      "execution_count": null,
      "metadata": {
        "colab": {
          "base_uri": "https://localhost:8080/"
        },
        "id": "Dj_X3Pp5hp4C",
        "outputId": "7ca03a43-c6cd-4244-ba1e-15fd19c295fb"
      },
      "outputs": [
        {
          "output_type": "execute_result",
          "data": {
            "text/plain": [
              "0         What is the step by step guide to invest in sh...\n",
              "1         What is the story of Kohinoor (Koh-i-Noor) Dia...\n",
              "2         How can I increase the speed of my internet co...\n",
              "3         Why am I mentally very lonely? How can I solve...\n",
              "4         Which one dissolve in water quikly sugar, salt...\n",
              "                                ...                        \n",
              "808569    How many keywords are there in PERL Programmin...\n",
              "808570           Is it true that there is life after death?\n",
              "808571                                    What's this coin?\n",
              "808572    I am having little hairfall problem but I want...\n",
              "808573        What is it like to have sex with your cousin?\n",
              "Length: 808574, dtype: object"
            ]
          },
          "metadata": {},
          "execution_count": 7
        }
      ],
      "source": [
        "que_df"
      ]
    },
    {
      "cell_type": "code",
      "execution_count": null,
      "metadata": {
        "id": "3xcA8CcXmU6N"
      },
      "outputs": [],
      "source": [
        "num_words = que_df.apply(lambda row: len(row.split(\" \")))\n",
        "\n"
      ]
    },
    {
      "cell_type": "code",
      "execution_count": null,
      "metadata": {
        "colab": {
          "base_uri": "https://localhost:8080/",
          "height": 540
        },
        "id": "GiUyfCtGgThc",
        "outputId": "1cfa0071-f2a7-4e70-f40b-a39fbee9ae78"
      },
      "outputs": [
        {
          "output_type": "stream",
          "name": "stdout",
          "text": [
            "AxesSubplot(0.125,0.125;0.775x0.755)\n"
          ]
        },
        {
          "output_type": "display_data",
          "data": {
            "text/plain": [
              "<Figure size 1440x720 with 1 Axes>"
            ],
            "image/png": "[encoded data removed]"
          },
          "metadata": {
            "needs_background": "light"
          }
        }
      ],
      "source": [
        "print(num_words.value_counts().plot(kind=\"bar\", figsize = (20,10)))"
      ]
    },
    {
      "cell_type": "code",
      "execution_count": null,
      "metadata": {
        "id": "lWAU9BzjbCzS"
      },
      "outputs": [],
      "source": [
        "class Preprocessing:\n",
        "\t\n",
        "    def __init__(self):\n",
        "\t\t    self.data = 'quora_duplicate_questions.tsv'\n",
        "\t\t    self.max_len = 60\n",
        "\t\t    self.max_words = 6000\n",
        "\t\t    self.test_size = 0.2\n",
        "\t\t    self.tokenizer = BertTokenizer.from_pretrained('bert-base-uncased')\n",
        "\t\t\n",
        "    def load_data(self):\n",
        "\t\t    df = pd.read_csv(self.data, sep ='\\t')\n",
        "\t\t    df.drop(['id','qid1','qid2'], axis=1, inplace=True)\n",
        "\t\t    df = df.dropna()\n",
        "\t\t    X = df[['question1','question2']]\n",
        "\t\t    Y = df['is_duplicate']\n",
        "\t\t    #print(df)\n",
        "\t\t    #lens = [int(len(df)*0.8), int(len(df)*0.2)]\n",
        "\t\t    self.X_train, self.X_test, self.y_train, self.y_test = train_test_split(X,Y, random_state = 123, test_size=0.2)\n",
        "\n",
        "    def sequence_to_token(self):\n",
        "\t\t    #print(list(self.X_train['question1']))\n",
        "\t\t    question_1_train = self.tokenizer(list(self.X_train['question1']), padding='max_length', truncation=True, max_length=self.max_len)\n",
        "\t\t    question_2_train = self.tokenizer(list(self.X_train['question2']), padding='max_length', truncation=True, max_length= self.max_len)\n",
        "\t\t    question_1_test = self.tokenizer(list(self.X_test['question1']), padding='max_length', truncation=True, max_length=self.max_len)\n",
        "\t\t    question_2_test = self.tokenizer(list(self.X_test['question2']), padding='max_length', truncation=True, max_length= self.max_len)\n",
        "\t\t    return question_1_train['input_ids'] , question_2_train['input_ids'], question_1_test['input_ids'] , question_2_test['input_ids']"
      ]
    },
    {
      "cell_type": "code",
      "execution_count": null,
      "metadata": {
        "id": "N-svmj1HbGPc",
        "colab": {
          "base_uri": "https://localhost:8080/",
          "height": 113,
          "referenced_widgets": [
            "cc6797626d9247389ebe3bf2a6772a9b",
            "d9b8131a1a3549caa12e12d8e01af392",
            "21150da98ad64daaa084f10f9b93d9bd",
            "1c7abab4ca0649a69957241c6fe8701f",
            "b19c0ad8fe9a4c1d87b4e885b6d4ae8b",
            "292d650389584e0d978bb9486ff70dd9",
            "dec74c95de654d2dbf1ab55b72571b70",
            "12bcd0d1941549a19124b1f2d8edf727",
            "585496eb21fe4c35b3149efd2aa2a382",
            "d5cef14cc99c47f9b9f2783cb5b54218",
            "c9ed009eb67d4f2b98c67e0c866a46ce",
            "72ea7b0420774074bbb0b0bb7a225f3b",
            "7236d7ff59e04d4ab2bfd3f8a479f5ef",
            "756daf5df48f49709c1dfee46c2d9c40",
            "0695317542204775bb9afe34e8eae94d",
            "9025950d181c462394dc38741d62bbd5",
            "4e9d5d9ce12d4dc0aa77e8f8fc710ffe",
            "405b7cb7c4074dea8ed2df84f182f343",
            "9ab6caf9efee4ad79dc0d4a7356336e6",
            "3341c2556802407592f95beef9a8891e",
            "d0610cde63854a6c9fbb1da0afd2a8e7",
            "3b402c01d6114a029f84fb62f1483989",
            "9d566d4282b741fe95649d23b7dbb1a0",
            "5e2d3d2442ac45e787b0aba7a8276ada",
            "7d77c3da9d784b8aa6d7b6441aab1896",
            "c82ee4df6a5a4df7ba9ad32ad58acc0c",
            "98b82a8f3f15467f9359fb878d63d4c3",
            "6bf464863abc404d9fa9159016b4194e",
            "5222c679db2246b08e63e4da98c74314",
            "f306861777774549a05d63415daee693",
            "850a77d5bf2f44219a539f5fca522592",
            "44d39e407e674ca0976c74bd098f5232",
            "0d6c0c9b415e42b1b87ae546ea3451b4"
          ]
        },
        "outputId": "e9cbdeea-ce20-442e-e50f-ae0e512b535d"
      },
      "outputs": [
        {
          "output_type": "display_data",
          "data": {
            "text/plain": [
              "Downloading:   0%|          | 0.00/226k [00:00<?, ?B/s]"
            ],
            "application/vnd.jupyter.widget-view+json": {
              "version_major": 2,
              "version_minor": 0,
              "model_id": "cc6797626d9247389ebe3bf2a6772a9b"
            }
          },
          "metadata": {}
        },
        {
          "output_type": "display_data",
          "data": {
            "text/plain": [
              "Downloading:   0%|          | 0.00/28.0 [00:00<?, ?B/s]"
            ],
            "application/vnd.jupyter.widget-view+json": {
              "version_major": 2,
              "version_minor": 0,
              "model_id": "72ea7b0420774074bbb0b0bb7a225f3b"
            }
          },
          "metadata": {}
        },
        {
          "output_type": "display_data",
          "data": {
            "text/plain": [
              "Downloading:   0%|          | 0.00/570 [00:00<?, ?B/s]"
            ],
            "application/vnd.jupyter.widget-view+json": {
              "version_major": 2,
              "version_minor": 0,
              "model_id": "9d566d4282b741fe95649d23b7dbb1a0"
            }
          },
          "metadata": {}
        }
      ],
      "source": [
        "pro = Preprocessing()"
      ]
    },
    {
      "cell_type": "code",
      "source": [
        "pro.load_data()"
      ],
      "metadata": {
        "id": "KAco4KGZueI1"
      },
      "execution_count": null,
      "outputs": []
    },
    {
      "cell_type": "code",
      "source": [
        "pro.X_train"
      ],
      "metadata": {
        "colab": {
          "base_uri": "https://localhost:8080/",
          "height": 424
        },
        "id": "6fmFEXJAyMS3",
        "outputId": "6a8480d2-6ff5-47e2-9744-eed5d61020ae"
      },
      "execution_count": null,
      "outputs": [
        {
          "output_type": "execute_result",
          "data": {
            "text/plain": [
              "                                                question1  \\\n",
              "270278  What are the factors affecting rates of us dol...   \n",
              "381357                 Do you have friends with benefits?   \n",
              "379776                      What is the best résumé font?   \n",
              "54070                       How can I smartly cut myself?   \n",
              "46450    How do I see who is viewing my Instagram videos?   \n",
              "...                                                   ...   \n",
              "192477  What happens if a lightning strikes in the ocean?   \n",
              "17730             How can dogs understand human language?   \n",
              "28030                       What's your favourite lotion?   \n",
              "277871                       How is SRCC's GBO programme?   \n",
              "249344                     What is workflow intelligence?   \n",
              "\n",
              "                                                question2  \n",
              "270278  How can I get the cheapest flight from Brazil ...  \n",
              "381357          Should I do friends with benefits or not?  \n",
              "379776                          What are some good fonts?  \n",
              "54070   Can someone who thinks about suicide for 7 yea...  \n",
              "46450        Can one tell who viewed my Instagram videos?  \n",
              "...                                                   ...  \n",
              "192477  What happens when lightning strikes the oceans...  \n",
              "17730             Can dogs understand the human language?  \n",
              "28030                  What's your favourite skin lotion?  \n",
              "277871  Which of these college is better for MBA, SRCC...  \n",
              "249344                             What is your workflow?  \n",
              "\n",
              "[323429 rows x 2 columns]"
            ],
            "text/html": [
              "\n",
              "  <div id=\"df-75ea5cea-989c-4c1a-8466-17e1860821a2\">\n",
              "    <div class=\"colab-df-container\">\n",
              "      <div>\n",
              "<style scoped>\n",
              "    .dataframe tbody tr th:only-of-type {\n",
              "        vertical-align: middle;\n",
              "    }\n",
              "\n",
              "    .dataframe tbody tr th {\n",
              "        vertical-align: top;\n",
              "    }\n",
              "\n",
              "    .dataframe thead th {\n",
              "        text-align: right;\n",
              "    }\n",
              "</style>\n",
              "<table border=\"1\" class=\"dataframe\">\n",
              "  <thead>\n",
              "    <tr style=\"text-align: right;\">\n",
              "      <th></th>\n",
              "      <th>question1</th>\n",
              "      <th>question2</th>\n",
              "    </tr>\n",
              "  </thead>\n",
              "  <tbody>\n",
              "    <tr>\n",
              "      <th>270278</th>\n",
              "      <td>What are the factors affecting rates of us dol...</td>\n",
              "      <td>How can I get the cheapest flight from Brazil ...</td>\n",
              "    </tr>\n",
              "    <tr>\n",
              "      <th>381357</th>\n",
              "      <td>Do you have friends with benefits?</td>\n",
              "      <td>Should I do friends with benefits or not?</td>\n",
              "    </tr>\n",
              "    <tr>\n",
              "      <th>379776</th>\n",
              "      <td>What is the best résumé font?</td>\n",
              "      <td>What are some good fonts?</td>\n",
              "    </tr>\n",
              "    <tr>\n",
              "      <th>54070</th>\n",
              "      <td>How can I smartly cut myself?</td>\n",
              "      <td>Can someone who thinks about suicide for 7 yea...</td>\n",
              "    </tr>\n",
              "    <tr>\n",
              "      <th>46450</th>\n",
              "      <td>How do I see who is viewing my Instagram videos?</td>\n",
              "      <td>Can one tell who viewed my Instagram videos?</td>\n",
              "    </tr>\n",
              "    <tr>\n",
              "      <th>...</th>\n",
              "      <td>...</td>\n",
              "      <td>...</td>\n",
              "    </tr>\n",
              "    <tr>\n",
              "      <th>192477</th>\n",
              "      <td>What happens if a lightning strikes in the ocean?</td>\n",
              "      <td>What happens when lightning strikes the oceans...</td>\n",
              "    </tr>\n",
              "    <tr>\n",
              "      <th>17730</th>\n",
              "      <td>How can dogs understand human language?</td>\n",
              "      <td>Can dogs understand the human language?</td>\n",
              "    </tr>\n",
              "    <tr>\n",
              "      <th>28030</th>\n",
              "      <td>What's your favourite lotion?</td>\n",
              "      <td>What's your favourite skin lotion?</td>\n",
              "    </tr>\n",
              "    <tr>\n",
              "      <th>277871</th>\n",
              "      <td>How is SRCC's GBO programme?</td>\n",
              "      <td>Which of these college is better for MBA, SRCC...</td>\n",
              "    </tr>\n",
              "    <tr>\n",
              "      <th>249344</th>\n",
              "      <td>What is workflow intelligence?</td>\n",
              "      <td>What is your workflow?</td>\n",
              "    </tr>\n",
              "  </tbody>\n",
              "</table>\n",
              "<p>323429 rows × 2 columns</p>\n",
              "</div>\n",
              "      <button class=\"colab-df-convert\" onclick=\"convertToInteractive('df-75ea5cea-989c-4c1a-8466-17e1860821a2')\"\n",
              "              title=\"Convert this dataframe to an interactive table.\"\n",
              "              style=\"display:none;\">\n",
              "        \n",
              "  <svg xmlns=\"http://www.w3.org/2000/svg\" height=\"24px\"viewBox=\"0 0 24 24\"\n",
              "       width=\"24px\">\n",
              "    <path d=\"M0 0h24v24H0V0z\" fill=\"none\"/>\n",
              "    <path d=\"M18.56 5.44l.94 2.06.94-2.06 2.06-.94-2.06-.94-.94-2.06-.94 2.06-2.06.94zm-11 1L8.5 8.5l.94-2.06 2.06-.94-2.06-.94L8.5 2.5l-.94 2.06-2.06.94zm10 10l.94 2.06.94-2.06 2.06-.94-2.06-.94-.94-2.06-.94 2.06-2.06.94z\"/><path d=\"M17.41 7.96l-1.37-1.37c-.4-.4-.92-.59-1.43-.59-.52 0-1.04.2-1.43.59L10.3 9.45l-7.72 7.72c-.78.78-.78 2.05 0 2.83L4 21.41c.39.39.9.59 1.41.59.51 0 1.02-.2 1.41-.59l7.78-7.78 2.81-2.81c.8-.78.8-2.07 0-2.86zM5.41 20L4 18.59l7.72-7.72 1.47 1.35L5.41 20z\"/>\n",
              "  </svg>\n",
              "      </button>\n",
              "      \n",
              "  <style>\n",
              "    .colab-df-container {\n",
              "      display:flex;\n",
              "      flex-wrap:wrap;\n",
              "      gap: 12px;\n",
              "    }\n",
              "\n",
              "    .colab-df-convert {\n",
              "      background-color: #E8F0FE;\n",
              "      border: none;\n",
              "      border-radius: 50%;\n",
              "      cursor: pointer;\n",
              "      display: none;\n",
              "      fill: #1967D2;\n",
              "      height: 32px;\n",
              "      padding: 0 0 0 0;\n",
              "      width: 32px;\n",
              "    }\n",
              "\n",
              "    .colab-df-convert:hover {\n",
              "      background-color: #E2EBFA;\n",
              "      box-shadow: 0px 1px 2px rgba(60, 64, 67, 0.3), 0px 1px 3px 1px rgba(60, 64, 67, 0.15);\n",
              "      fill: #174EA6;\n",
              "    }\n",
              "\n",
              "    [theme=dark] .colab-df-convert {\n",
              "      background-color: #3B4455;\n",
              "      fill: #D2E3FC;\n",
              "    }\n",
              "\n",
              "    [theme=dark] .colab-df-convert:hover {\n",
              "      background-color: #434B5C;\n",
              "      box-shadow: 0px 1px 3px 1px rgba(0, 0, 0, 0.15);\n",
              "      filter: drop-shadow(0px 1px 2px rgba(0, 0, 0, 0.3));\n",
              "      fill: #FFFFFF;\n",
              "    }\n",
              "  </style>\n",
              "\n",
              "      <script>\n",
              "        const buttonEl =\n",
              "          document.querySelector('#df-75ea5cea-989c-4c1a-8466-17e1860821a2 button.colab-df-convert');\n",
              "        buttonEl.style.display =\n",
              "          google.colab.kernel.accessAllowed ? 'block' : 'none';\n",
              "\n",
              "        async function convertToInteractive(key) {\n",
              "          const element = document.querySelector('#df-75ea5cea-989c-4c1a-8466-17e1860821a2');\n",
              "          const dataTable =\n",
              "            await google.colab.kernel.invokeFunction('convertToInteractive',\n",
              "                                                     [key], {});\n",
              "          if (!dataTable) return;\n",
              "\n",
              "          const docLinkHtml = 'Like what you see? Visit the ' +\n",
              "            '<a target=\"_blank\" href=https://colab.research.google.com/notebooks/data_table.ipynb>data table notebook</a>'\n",
              "            + ' to learn more about interactive tables.';\n",
              "          element.innerHTML = '';\n",
              "          dataTable['output_type'] = 'display_data';\n",
              "          await google.colab.output.renderOutput(dataTable, element);\n",
              "          const docLink = document.createElement('div');\n",
              "          docLink.innerHTML = docLinkHtml;\n",
              "          element.appendChild(docLink);\n",
              "        }\n",
              "      </script>\n",
              "    </div>\n",
              "  </div>\n",
              "  "
            ]
          },
          "metadata": {},
          "execution_count": 13
        }
      ]
    },
    {
      "cell_type": "code",
      "source": [
        "question_1_train, question_2_train, question_1_test, question_2_test = pro.sequence_to_token()"
      ],
      "metadata": {
        "id": "wbwEWGTQujbR"
      },
      "execution_count": null,
      "outputs": []
    },
    {
      "cell_type": "code",
      "source": [
        "class LSTM1(nn.Module):\n",
        "    def __init__(self, num_classes, input_size, hidden_size, num_layers, seq_length):\n",
        "        super(LSTM1, self).__init__()\n",
        "        self.num_classes = num_classes #number of classes\n",
        "        self.num_layers = num_layers #number of layers\n",
        "        self.input_size = input_size #input size\n",
        "        self.hidden_size = hidden_size #hidden state\n",
        "        self.seq_length = seq_length #sequence length\n",
        "\n",
        "        self.lstm = nn.LSTM(input_size=input_size, hidden_size=hidden_size,\n",
        "                          num_layers=num_layers, batch_first=True) #lstm\n",
        "        self.fc_1 =  nn.Linear(hidden_size, 128) #fully connected 1\n",
        "        self.fc = nn.Linear(128, num_classes) #fully connected last layer\n",
        "\n",
        "        self.relu = nn.ReLU()\n",
        "        nn.sigmoid = nn.Sigmoid()\n",
        "    \n",
        "    def forward(self,x):\n",
        "        h_0 = Variable(torch.zeros(self.num_layers, x.size(0), self.hidden_size)) #hidden state\n",
        "        c_0 = Variable(torch.zeros(self.num_layers, x.size(0), self.hidden_size)) #internal state\n",
        "        # Propagate input through LSTM\n",
        "        output, (hn, cn) = self.lstm(x, (h_0, c_0)) #lstm with input, hidden, and internal state\n",
        "        hn = hn.view(-1, self.hidden_size) #reshaping the data for Dense layer next\n",
        "        out = self.relu(hn)\n",
        "        out = self.fc_1(out) #first Dense\n",
        "        out = self.relu(out) #relu\n",
        "        out = self.fc(out) #Final Output\n",
        "        out = nn.sigmoid(out)\n",
        "        return out\n",
        " "
      ],
      "metadata": {
        "id": "Qe_ep7TVd5Sg"
      },
      "execution_count": null,
      "outputs": []
    },
    {
      "cell_type": "code",
      "source": [
        "num_epochs = 1000 #1000 epochs\n",
        "learning_rate = 0.001 #0.001 lr\n",
        "\n",
        "input_size = 120 #number of features\n",
        "hidden_size = 2 #number of features in hidden state\n",
        "num_layers = 1 #number of stacked lstm layers\n",
        "\n",
        "num_classes = 1 #number of output classes "
      ],
      "metadata": {
        "id": "Pf0WmqXguKxi"
      },
      "execution_count": null,
      "outputs": []
    },
    {
      "cell_type": "code",
      "source": [
        ""
      ],
      "metadata": {
        "id": "pooxdrMC-6Cz"
      },
      "execution_count": null,
      "outputs": []
    },
    {
      "cell_type": "code",
      "source": [
        "lstm1 = LSTM1(num_classes, input_size, hidden_size, num_layers,120) #our lstm class\n",
        "       "
      ],
      "metadata": {
        "id": "WX1fWHVlftuV"
      },
      "execution_count": null,
      "outputs": []
    },
    {
      "cell_type": "code",
      "source": [
        "pro.y_train"
      ],
      "metadata": {
        "colab": {
          "base_uri": "https://localhost:8080/"
        },
        "id": "LrnmIfMP4A5Y",
        "outputId": "9298203f-7b16-4783-c8ee-511e3f77254c"
      },
      "execution_count": null,
      "outputs": [
        {
          "output_type": "execute_result",
          "data": {
            "text/plain": [
              "270278    0\n",
              "381357    0\n",
              "379776    0\n",
              "54070     0\n",
              "46450     1\n",
              "         ..\n",
              "192477    1\n",
              "17730     0\n",
              "28030     1\n",
              "277871    0\n",
              "249344    0\n",
              "Name: is_duplicate, Length: 323429, dtype: int64"
            ]
          },
          "metadata": {},
          "execution_count": 18
        }
      ]
    },
    {
      "cell_type": "code",
      "source": [
        "Question1_train_tensors = Variable(torch.Tensor(question_1_train))\n",
        "Question1_test_tensors = Variable(torch.Tensor(question_1_test))\n",
        "Question2_train_tensors = Variable(torch.Tensor(question_2_train))\n",
        "Question2_test_tensors = Variable(torch.Tensor(question_2_test))\n",
        "\n",
        "y_train_tensors = Variable(torch.Tensor(pro.y_train.values))\n",
        "y_test_tensors = Variable(torch.Tensor(pro.y_test.values)) "
      ],
      "metadata": {
        "id": "0HMn2Lh_Mo6-"
      },
      "execution_count": null,
      "outputs": []
    },
    {
      "cell_type": "code",
      "source": [
        "Question1_train_final = torch.reshape(Question1_train_tensors,   (Question1_train_tensors.shape[0], 1, Question1_train_tensors.shape[1]))\n",
        "Question2_train_final = torch.reshape(Question2_train_tensors,   (Question2_train_tensors.shape[0], 1, Question2_train_tensors.shape[1]))\n",
        "Question1_test_final = torch.reshape(Question1_test_tensors,  (Question1_test_tensors.shape[0], 1, Question1_test_tensors.shape[1])) \n",
        "Question2_test_final = torch.reshape(Question2_test_tensors,  (Question2_test_tensors.shape[0], 1, Question2_test_tensors.shape[1])) "
      ],
      "metadata": {
        "id": "_7YUCIuIrNYN"
      },
      "execution_count": null,
      "outputs": []
    },
    {
      "cell_type": "code",
      "source": [
        "criterion = nn.BCELoss()    # Binary classification loss\n",
        "optimizer = torch.optim.Adam(lstm1.parameters(), lr=learning_rate) "
      ],
      "metadata": {
        "id": "8eq9ziBJPjh1"
      },
      "execution_count": null,
      "outputs": []
    },
    {
      "cell_type": "code",
      "source": [
        "Question1_train_final.size()"
      ],
      "metadata": {
        "colab": {
          "base_uri": "https://localhost:8080/"
        },
        "id": "bhYQ9TZr7XDE",
        "outputId": "b5b6f532-972b-40f1-a439-d276f050761a"
      },
      "execution_count": null,
      "outputs": [
        {
          "output_type": "execute_result",
          "data": {
            "text/plain": [
              "torch.Size([323429, 1, 60])"
            ]
          },
          "metadata": {},
          "execution_count": 22
        }
      ]
    },
    {
      "cell_type": "code",
      "source": [
        "Question2_train_final.size()"
      ],
      "metadata": {
        "colab": {
          "base_uri": "https://localhost:8080/"
        },
        "id": "ToplTZbg7cfX",
        "outputId": "0f348db6-cf1f-43a0-849f-f77d89cf77ea"
      },
      "execution_count": null,
      "outputs": [
        {
          "output_type": "execute_result",
          "data": {
            "text/plain": [
              "torch.Size([323429, 1, 60])"
            ]
          },
          "metadata": {},
          "execution_count": 23
        }
      ]
    },
    {
      "cell_type": "markdown",
      "source": [
        "## Concatenate the tensors"
      ],
      "metadata": {
        "id": "T9jujm988K5T"
      }
    },
    {
      "cell_type": "code",
      "source": [
        "X_train_tensors = torch.cat((Question1_train_final,Question2_train_final),2)"
      ],
      "metadata": {
        "id": "6liLrSmR8JhK"
      },
      "execution_count": null,
      "outputs": []
    },
    {
      "cell_type": "code",
      "source": [
        "X_test_tensors = torch.cat((Question1_test_final,Question2_test_final),2)"
      ],
      "metadata": {
        "id": "U1RIT_v49DCt"
      },
      "execution_count": null,
      "outputs": []
    },
    {
      "cell_type": "code",
      "source": [
        "X_train_tensors"
      ],
      "metadata": {
        "colab": {
          "base_uri": "https://localhost:8080/"
        },
        "id": "bo_1Ob_mmbkK",
        "outputId": "783efe08-3ec1-4674-c425-04563b4078ae"
      },
      "execution_count": null,
      "outputs": [
        {
          "output_type": "execute_result",
          "data": {
            "text/plain": [
              "tensor([[[ 101., 2054., 2024.,  ...,    0.,    0.,    0.]],\n",
              "\n",
              "        [[ 101., 2079., 2017.,  ...,    0.,    0.,    0.]],\n",
              "\n",
              "        [[ 101., 2054., 2003.,  ...,    0.,    0.,    0.]],\n",
              "\n",
              "        ...,\n",
              "\n",
              "        [[ 101., 2054., 1005.,  ...,    0.,    0.,    0.]],\n",
              "\n",
              "        [[ 101., 2129., 2003.,  ...,    0.,    0.,    0.]],\n",
              "\n",
              "        [[ 101., 2054., 2003.,  ...,    0.,    0.,    0.]]])"
            ]
          },
          "metadata": {},
          "execution_count": 26
        }
      ]
    },
    {
      "cell_type": "code",
      "source": [
        "X_train_tensors.size()"
      ],
      "metadata": {
        "colab": {
          "base_uri": "https://localhost:8080/"
        },
        "id": "1TDnkHoD9Zte",
        "outputId": "ab96f63d-ef1f-4faa-88c9-5ac190931c9e"
      },
      "execution_count": null,
      "outputs": [
        {
          "output_type": "execute_result",
          "data": {
            "text/plain": [
              "torch.Size([323429, 1, 120])"
            ]
          },
          "metadata": {},
          "execution_count": 27
        }
      ]
    },
    {
      "cell_type": "code",
      "source": [
        "for epoch in range(num_epochs):\n",
        "  outputs = lstm1.forward(X_test_tensors) #forward pass\n",
        "  optimizer.zero_grad() #caluclate the gradient, manually setting to 0\n",
        " \n",
        "  threshold = torch.tensor([0.5]) # setting threshold\n",
        "\n",
        "  # results = (outputs>threshold).float()*1\n",
        "\n",
        "  # obtain the loss function\n",
        "  loss = criterion(torch.squeeze(outputs), y_test_tensors)\n",
        " \n",
        "  loss.backward() #calculates the loss of the loss function\n",
        " \n",
        "  optimizer.step() #improve from loss, i.e backprop\n",
        "  if epoch % 10 == 0:\n",
        "    print(\"Epoch: %d, loss: %1.5f\" % (epoch, loss.item())) \n"
      ],
      "metadata": {
        "id": "h9zdOQ0UMwBw",
        "colab": {
          "base_uri": "https://localhost:8080/"
        },
        "outputId": "0f94ea02-49cc-4007-ba57-447318b20504"
      },
      "execution_count": null,
      "outputs": [
        {
          "output_type": "stream",
          "name": "stdout",
          "text": [
            "Epoch: 0, loss: 0.68018\n",
            "Epoch: 10, loss: 0.66183\n",
            "Epoch: 20, loss: 0.65836\n",
            "Epoch: 30, loss: 0.65870\n",
            "Epoch: 40, loss: 0.65803\n",
            "Epoch: 50, loss: 0.65772\n",
            "Epoch: 60, loss: 0.65755\n",
            "Epoch: 70, loss: 0.65738\n",
            "Epoch: 80, loss: 0.65713\n",
            "Epoch: 90, loss: 0.65676\n",
            "Epoch: 100, loss: 0.65664\n",
            "Epoch: 110, loss: 0.65650\n",
            "Epoch: 120, loss: 0.65642\n",
            "Epoch: 130, loss: 0.65633\n",
            "Epoch: 140, loss: 0.65619\n",
            "Epoch: 150, loss: 0.65608\n",
            "Epoch: 160, loss: 0.65601\n",
            "Epoch: 170, loss: 0.65592\n",
            "Epoch: 180, loss: 0.65581\n",
            "Epoch: 190, loss: 0.65561\n",
            "Epoch: 200, loss: 0.65525\n",
            "Epoch: 210, loss: 0.65502\n",
            "Epoch: 220, loss: 0.65484\n",
            "Epoch: 230, loss: 0.65457\n",
            "Epoch: 240, loss: 0.65416\n",
            "Epoch: 250, loss: 0.65364\n",
            "Epoch: 260, loss: 0.65326\n",
            "Epoch: 270, loss: 0.65268\n",
            "Epoch: 280, loss: 0.65214\n",
            "Epoch: 290, loss: 0.65170\n",
            "Epoch: 300, loss: 0.65121\n",
            "Epoch: 310, loss: 0.65082\n",
            "Epoch: 320, loss: 0.65041\n",
            "Epoch: 330, loss: 0.65033\n",
            "Epoch: 340, loss: 0.65017\n",
            "Epoch: 350, loss: 0.65008\n",
            "Epoch: 360, loss: 0.64983\n",
            "Epoch: 370, loss: 0.64974\n",
            "Epoch: 380, loss: 0.64963\n",
            "Epoch: 390, loss: 0.64954\n",
            "Epoch: 400, loss: 0.64954\n",
            "Epoch: 410, loss: 0.64945\n",
            "Epoch: 420, loss: 0.64933\n",
            "Epoch: 430, loss: 0.64925\n",
            "Epoch: 440, loss: 0.64927\n",
            "Epoch: 450, loss: 0.64923\n",
            "Epoch: 460, loss: 0.64905\n",
            "Epoch: 470, loss: 0.64887\n",
            "Epoch: 480, loss: 0.64869\n",
            "Epoch: 490, loss: 0.64870\n",
            "Epoch: 500, loss: 0.64872\n",
            "Epoch: 510, loss: 0.64867\n",
            "Epoch: 520, loss: 0.64863\n",
            "Epoch: 530, loss: 0.64860\n",
            "Epoch: 540, loss: 0.64861\n",
            "Epoch: 550, loss: 0.64849\n",
            "Epoch: 560, loss: 0.64842\n",
            "Epoch: 570, loss: 0.64839\n",
            "Epoch: 580, loss: 0.64832\n",
            "Epoch: 590, loss: 0.64837\n",
            "Epoch: 600, loss: 0.64824\n",
            "Epoch: 610, loss: 0.64814\n",
            "Epoch: 620, loss: 0.64812\n",
            "Epoch: 630, loss: 0.64802\n",
            "Epoch: 640, loss: 0.64796\n",
            "Epoch: 650, loss: 0.64789\n",
            "Epoch: 660, loss: 0.64798\n",
            "Epoch: 670, loss: 0.64795\n",
            "Epoch: 680, loss: 0.64797\n",
            "Epoch: 690, loss: 0.64776\n",
            "Epoch: 700, loss: 0.64773\n",
            "Epoch: 710, loss: 0.64777\n",
            "Epoch: 720, loss: 0.64769\n",
            "Epoch: 730, loss: 0.64772\n",
            "Epoch: 740, loss: 0.64767\n",
            "Epoch: 750, loss: 0.64775\n",
            "Epoch: 760, loss: 0.64762\n",
            "Epoch: 770, loss: 0.64748\n",
            "Epoch: 780, loss: 0.64758\n",
            "Epoch: 790, loss: 0.64750\n",
            "Epoch: 800, loss: 0.64747\n",
            "Epoch: 810, loss: 0.64731\n",
            "Epoch: 820, loss: 0.64740\n",
            "Epoch: 830, loss: 0.64730\n",
            "Epoch: 840, loss: 0.64720\n",
            "Epoch: 850, loss: 0.64716\n",
            "Epoch: 860, loss: 0.64722\n",
            "Epoch: 870, loss: 0.64724\n",
            "Epoch: 880, loss: 0.64716\n",
            "Epoch: 890, loss: 0.64696\n",
            "Epoch: 900, loss: 0.64685\n",
            "Epoch: 910, loss: 0.64680\n",
            "Epoch: 920, loss: 0.64684\n",
            "Epoch: 930, loss: 0.64703\n",
            "Epoch: 940, loss: 0.64679\n",
            "Epoch: 950, loss: 0.64670\n",
            "Epoch: 960, loss: 0.64680\n",
            "Epoch: 970, loss: 0.64678\n",
            "Epoch: 980, loss: 0.64668\n",
            "Epoch: 990, loss: 0.64661\n"
          ]
        }
      ]
    },
    {
      "cell_type": "code",
      "source": [
        "outputs"
      ],
      "metadata": {
        "colab": {
          "base_uri": "https://localhost:8080/"
        },
        "id": "FQfNzo9BatiR",
        "outputId": "8b0f5182-ebd5-4c58-cc63-7bee71cdedd5"
      },
      "execution_count": null,
      "outputs": [
        {
          "output_type": "execute_result",
          "data": {
            "text/plain": [
              "tensor([[0.4662],\n",
              "        [0.3098],\n",
              "        [0.3098],\n",
              "        ...,\n",
              "        [0.4662],\n",
              "        [0.4662],\n",
              "        [0.3098]], grad_fn=<SigmoidBackward0>)"
            ]
          },
          "metadata": {},
          "execution_count": 29
        }
      ]
    },
    {
      "cell_type": "code",
      "source": [
        "threshold = torch.tensor([0.5])\n",
        "results = (outputs>threshold).float()*1\n",
        "f1 = F1Score(num_classes=2)\n",
        "f1(torch.squeeze(results).type(torch.int), y_test_tensors.type(torch.int))\n"
      ],
      "metadata": {
        "id": "_hkawbFWNd-x",
        "colab": {
          "base_uri": "https://localhost:8080/"
        },
        "outputId": "be25c3e4-b8b2-40fb-f673-2187744cc873"
      },
      "execution_count": null,
      "outputs": [
        {
          "output_type": "execute_result",
          "data": {
            "text/plain": [
              "tensor(0.6292)"
            ]
          },
          "metadata": {},
          "execution_count": 30
        }
      ]
    },
    {
      "cell_type": "code",
      "source": [
        "y_train_tensors.type(torch.int)"
      ],
      "metadata": {
        "id": "4R0W6_0TkkVA",
        "colab": {
          "base_uri": "https://localhost:8080/"
        },
        "outputId": "de7d04a9-b070-4ca5-a85c-60fe6d17e1dc"
      },
      "execution_count": null,
      "outputs": [
        {
          "output_type": "execute_result",
          "data": {
            "text/plain": [
              "tensor([0, 0, 0,  ..., 1, 0, 0], dtype=torch.int32)"
            ]
          },
          "metadata": {},
          "execution_count": 31
        }
      ]
    },
    {
      "cell_type": "code",
      "source": [
        "torch.squeeze(results)"
      ],
      "metadata": {
        "colab": {
          "base_uri": "https://localhost:8080/"
        },
        "id": "tTYHiI23sBoZ",
        "outputId": "cc36b871-c6a0-4186-f21a-be35c0d62078"
      },
      "execution_count": null,
      "outputs": [
        {
          "output_type": "execute_result",
          "data": {
            "text/plain": [
              "tensor([0., 0., 0.,  ..., 0., 0., 0.])"
            ]
          },
          "metadata": {},
          "execution_count": 32
        }
      ]
    },
    {
      "cell_type": "code",
      "source": [
        "y_train_tensors.type(torch.int) "
      ],
      "metadata": {
        "colab": {
          "base_uri": "https://localhost:8080/"
        },
        "id": "270QhQD1sQBp",
        "outputId": "0ec37e5c-0d6a-4e54-9f61-23c749b4f324"
      },
      "execution_count": null,
      "outputs": [
        {
          "output_type": "execute_result",
          "data": {
            "text/plain": [
              "tensor([0, 0, 0,  ..., 1, 0, 0], dtype=torch.int32)"
            ]
          },
          "metadata": {},
          "execution_count": 33
        }
      ]
    },
    {
      "cell_type": "code",
      "source": [
        "lstm1"
      ],
      "metadata": {
        "colab": {
          "base_uri": "https://localhost:8080/"
        },
        "id": "QGdmymvyeZyF",
        "outputId": "99c71d67-79cf-4caf-9594-d776484250f5"
      },
      "execution_count": null,
      "outputs": [
        {
          "output_type": "execute_result",
          "data": {
            "text/plain": [
              "LSTM1(\n",
              "  (lstm): LSTM(120, 2, batch_first=True)\n",
              "  (fc_1): Linear(in_features=2, out_features=128, bias=True)\n",
              "  (fc): Linear(in_features=128, out_features=1, bias=True)\n",
              "  (relu): ReLU()\n",
              ")"
            ]
          },
          "metadata": {},
          "execution_count": 34
        }
      ]
    },
    {
      "cell_type": "code",
      "source": [
        ""
      ],
      "metadata": {
        "id": "yN8p0ck7ecIW"
      },
      "execution_count": null,
      "outputs": []
    },
    {
      "cell_type": "code",
      "source": [
        "[1] +[2]"
      ],
      "metadata": {
        "colab": {
          "base_uri": "https://localhost:8080/"
        },
        "id": "CPV3uh2OH-oT",
        "outputId": "dfbfd63f-68d5-47bf-9174-1a9d123f2f08"
      },
      "execution_count": null,
      "outputs": [
        {
          "output_type": "execute_result",
          "data": {
            "text/plain": [
              "[1, 2]"
            ]
          },
          "metadata": {},
          "execution_count": 2
        }
      ]
    },
    {
      "cell_type": "code",
      "source": [
        ""
      ],
      "metadata": {
        "id": "zn3y6nHhIdth"
      },
      "execution_count": null,
      "outputs": []
    }
  ],
  "metadata": {
    "colab": {
      "name": "LSTM_Model.ipynb",
      "provenance": [],
      "collapsed_sections": []
    },
    "kernelspec": {
      "display_name": "Python 3",
      "name": "python3"
    },
    "language_info": {
      "name": "python"
    },
    "widgets": {
      "application/vnd.jupyter.widget-state+json": {
        "cc6797626d9247389ebe3bf2a6772a9b": {
          "model_module": "@jupyter-widgets/controls",
          "model_name": "HBoxModel",
          "model_module_version": "1.5.0",
          "state": {
            "_dom_classes": [],
            "_model_module": "@jupyter-widgets/controls",
            "_model_module_version": "1.5.0",
            "_model_name": "HBoxModel",
            "_view_count": null,
            "_view_module": "@jupyter-widgets/controls",
            "_view_module_version": "1.5.0",
            "_view_name": "HBoxView",
            "box_style": "",
            "children": [
              "IPY_MODEL_d9b8131a1a3549caa12e12d8e01af392",
              "IPY_MODEL_21150da98ad64daaa084f10f9b93d9bd",
              "IPY_MODEL_1c7abab4ca0649a69957241c6fe8701f"
            ],
            "layout": "IPY_MODEL_b19c0ad8fe9a4c1d87b4e885b6d4ae8b"
          }
        },
        "d9b8131a1a3549caa12e12d8e01af392": {
          "model_module": "@jupyter-widgets/controls",
          "model_name": "HTMLModel",
          "model_module_version": "1.5.0",
          "state": {
            "_dom_classes": [],
            "_model_module": "@jupyter-widgets/controls",
            "_model_module_version": "1.5.0",
            "_model_name": "HTMLModel",
            "_view_count": null,
            "_view_module": "@jupyter-widgets/controls",
            "_view_module_version": "1.5.0",
            "_view_name": "HTMLView",
            "description": "",
            "description_tooltip": null,
            "layout": "IPY_MODEL_292d650389584e0d978bb9486ff70dd9",
            "placeholder": "​",
            "style": "IPY_MODEL_dec74c95de654d2dbf1ab55b72571b70",
            "value": "Downloading: 100%"
          }
        },
        "21150da98ad64daaa084f10f9b93d9bd": {
          "model_module": "@jupyter-widgets/controls",
          "model_name": "FloatProgressModel",
          "model_module_version": "1.5.0",
          "state": {
            "_dom_classes": [],
            "_model_module": "@jupyter-widgets/controls",
            "_model_module_version": "1.5.0",
            "_model_name": "FloatProgressModel",
            "_view_count": null,
            "_view_module": "@jupyter-widgets/controls",
            "_view_module_version": "1.5.0",
            "_view_name": "ProgressView",
            "bar_style": "success",
            "description": "",
            "description_tooltip": null,
            "layout": "IPY_MODEL_12bcd0d1941549a19124b1f2d8edf727",
            "max": 231508,
            "min": 0,
            "orientation": "horizontal",
            "style": "IPY_MODEL_585496eb21fe4c35b3149efd2aa2a382",
            "value": 231508
          }
        },
        "1c7abab4ca0649a69957241c6fe8701f": {
          "model_module": "@jupyter-widgets/controls",
          "model_name": "HTMLModel",
          "model_module_version": "1.5.0",
          "state": {
            "_dom_classes": [],
            "_model_module": "@jupyter-widgets/controls",
            "_model_module_version": "1.5.0",
            "_model_name": "HTMLModel",
            "_view_count": null,
            "_view_module": "@jupyter-widgets/controls",
            "_view_module_version": "1.5.0",
            "_view_name": "HTMLView",
            "description": "",
            "description_tooltip": null,
            "layout": "IPY_MODEL_d5cef14cc99c47f9b9f2783cb5b54218",
            "placeholder": "​",
            "style": "IPY_MODEL_c9ed009eb67d4f2b98c67e0c866a46ce",
            "value": " 226k/226k [00:00&lt;00:00, 5.37kB/s]"
          }
        },
        "b19c0ad8fe9a4c1d87b4e885b6d4ae8b": {
          "model_module": "@jupyter-widgets/base",
          "model_name": "LayoutModel",
          "model_module_version": "1.2.0",
          "state": {
            "_model_module": "@jupyter-widgets/base",
            "_model_module_version": "1.2.0",
            "_model_name": "LayoutModel",
            "_view_count": null,
            "_view_module": "@jupyter-widgets/base",
            "_view_module_version": "1.2.0",
            "_view_name": "LayoutView",
            "align_content": null,
            "align_items": null,
            "align_self": null,
            "border": null,
            "bottom": null,
            "display": null,
            "flex": null,
            "flex_flow": null,
            "grid_area": null,
            "grid_auto_columns": null,
            "grid_auto_flow": null,
            "grid_auto_rows": null,
            "grid_column": null,
            "grid_gap": null,
            "grid_row": null,
            "grid_template_areas": null,
            "grid_template_columns": null,
            "grid_template_rows": null,
            "height": null,
            "justify_content": null,
            "justify_items": null,
            "left": null,
            "margin": null,
            "max_height": null,
            "max_width": null,
            "min_height": null,
            "min_width": null,
            "object_fit": null,
            "object_position": null,
            "order": null,
            "overflow": null,
            "overflow_x": null,
            "overflow_y": null,
            "padding": null,
            "right": null,
            "top": null,
            "visibility": null,
            "width": null
          }
        },
        "292d650389584e0d978bb9486ff70dd9": {
          "model_module": "@jupyter-widgets/base",
          "model_name": "LayoutModel",
          "model_module_version": "1.2.0",
          "state": {
            "_model_module": "@jupyter-widgets/base",
            "_model_module_version": "1.2.0",
            "_model_name": "LayoutModel",
            "_view_count": null,
            "_view_module": "@jupyter-widgets/base",
            "_view_module_version": "1.2.0",
            "_view_name": "LayoutView",
            "align_content": null,
            "align_items": null,
            "align_self": null,
            "border": null,
            "bottom": null,
            "display": null,
            "flex": null,
            "flex_flow": null,
            "grid_area": null,
            "grid_auto_columns": null,
            "grid_auto_flow": null,
            "grid_auto_rows": null,
            "grid_column": null,
            "grid_gap": null,
            "grid_row": null,
            "grid_template_areas": null,
            "grid_template_columns": null,
            "grid_template_rows": null,
            "height": null,
            "justify_content": null,
            "justify_items": null,
            "left": null,
            "margin": null,
            "max_height": null,
            "max_width": null,
            "min_height": null,
            "min_width": null,
            "object_fit": null,
            "object_position": null,
            "order": null,
            "overflow": null,
            "overflow_x": null,
            "overflow_y": null,
            "padding": null,
            "right": null,
            "top": null,
            "visibility": null,
            "width": null
          }
        },
        "dec74c95de654d2dbf1ab55b72571b70": {
          "model_module": "@jupyter-widgets/controls",
          "model_name": "DescriptionStyleModel",
          "model_module_version": "1.5.0",
          "state": {
            "_model_module": "@jupyter-widgets/controls",
            "_model_module_version": "1.5.0",
            "_model_name": "DescriptionStyleModel",
            "_view_count": null,
            "_view_module": "@jupyter-widgets/base",
            "_view_module_version": "1.2.0",
            "_view_name": "StyleView",
            "description_width": ""
          }
        },
        "12bcd0d1941549a19124b1f2d8edf727": {
          "model_module": "@jupyter-widgets/base",
          "model_name": "LayoutModel",
          "model_module_version": "1.2.0",
          "state": {
            "_model_module": "@jupyter-widgets/base",
            "_model_module_version": "1.2.0",
            "_model_name": "LayoutModel",
            "_view_count": null,
            "_view_module": "@jupyter-widgets/base",
            "_view_module_version": "1.2.0",
            "_view_name": "LayoutView",
            "align_content": null,
            "align_items": null,
            "align_self": null,
            "border": null,
            "bottom": null,
            "display": null,
            "flex": null,
            "flex_flow": null,
            "grid_area": null,
            "grid_auto_columns": null,
            "grid_auto_flow": null,
            "grid_auto_rows": null,
            "grid_column": null,
            "grid_gap": null,
            "grid_row": null,
            "grid_template_areas": null,
            "grid_template_columns": null,
            "grid_template_rows": null,
            "height": null,
            "justify_content": null,
            "justify_items": null,
            "left": null,
            "margin": null,
            "max_height": null,
            "max_width": null,
            "min_height": null,
            "min_width": null,
            "object_fit": null,
            "object_position": null,
            "order": null,
            "overflow": null,
            "overflow_x": null,
            "overflow_y": null,
            "padding": null,
            "right": null,
            "top": null,
            "visibility": null,
            "width": null
          }
        },
        "585496eb21fe4c35b3149efd2aa2a382": {
          "model_module": "@jupyter-widgets/controls",
          "model_name": "ProgressStyleModel",
          "model_module_version": "1.5.0",
          "state": {
            "_model_module": "@jupyter-widgets/controls",
            "_model_module_version": "1.5.0",
            "_model_name": "ProgressStyleModel",
            "_view_count": null,
            "_view_module": "@jupyter-widgets/base",
            "_view_module_version": "1.2.0",
            "_view_name": "StyleView",
            "bar_color": null,
            "description_width": ""
          }
        },
        "d5cef14cc99c47f9b9f2783cb5b54218": {
          "model_module": "@jupyter-widgets/base",
          "model_name": "LayoutModel",
          "model_module_version": "1.2.0",
          "state": {
            "_model_module": "@jupyter-widgets/base",
            "_model_module_version": "1.2.0",
            "_model_name": "LayoutModel",
            "_view_count": null,
            "_view_module": "@jupyter-widgets/base",
            "_view_module_version": "1.2.0",
            "_view_name": "LayoutView",
            "align_content": null,
            "align_items": null,
            "align_self": null,
            "border": null,
            "bottom": null,
            "display": null,
            "flex": null,
            "flex_flow": null,
            "grid_area": null,
            "grid_auto_columns": null,
            "grid_auto_flow": null,
            "grid_auto_rows": null,
            "grid_column": null,
            "grid_gap": null,
            "grid_row": null,
            "grid_template_areas": null,
            "grid_template_columns": null,
            "grid_template_rows": null,
            "height": null,
            "justify_content": null,
            "justify_items": null,
            "left": null,
            "margin": null,
            "max_height": null,
            "max_width": null,
            "min_height": null,
            "min_width": null,
            "object_fit": null,
            "object_position": null,
            "order": null,
            "overflow": null,
            "overflow_x": null,
            "overflow_y": null,
            "padding": null,
            "right": null,
            "top": null,
            "visibility": null,
            "width": null
          }
        },
        "c9ed009eb67d4f2b98c67e0c866a46ce": {
          "model_module": "@jupyter-widgets/controls",
          "model_name": "DescriptionStyleModel",
          "model_module_version": "1.5.0",
          "state": {
            "_model_module": "@jupyter-widgets/controls",
            "_model_module_version": "1.5.0",
            "_model_name": "DescriptionStyleModel",
            "_view_count": null,
            "_view_module": "@jupyter-widgets/base",
            "_view_module_version": "1.2.0",
            "_view_name": "StyleView",
            "description_width": ""
          }
        },
        "72ea7b0420774074bbb0b0bb7a225f3b": {
          "model_module": "@jupyter-widgets/controls",
          "model_name": "HBoxModel",
          "model_module_version": "1.5.0",
          "state": {
            "_dom_classes": [],
            "_model_module": "@jupyter-widgets/controls",
            "_model_module_version": "1.5.0",
            "_model_name": "HBoxModel",
            "_view_count": null,
            "_view_module": "@jupyter-widgets/controls",
            "_view_module_version": "1.5.0",
            "_view_name": "HBoxView",
            "box_style": "",
            "children": [
              "IPY_MODEL_7236d7ff59e04d4ab2bfd3f8a479f5ef",
              "IPY_MODEL_756daf5df48f49709c1dfee46c2d9c40",
              "IPY_MODEL_0695317542204775bb9afe34e8eae94d"
            ],
            "layout": "IPY_MODEL_9025950d181c462394dc38741d62bbd5"
          }
        },
        "7236d7ff59e04d4ab2bfd3f8a479f5ef": {
          "model_module": "@jupyter-widgets/controls",
          "model_name": "HTMLModel",
          "model_module_version": "1.5.0",
          "state": {
            "_dom_classes": [],
            "_model_module": "@jupyter-widgets/controls",
            "_model_module_version": "1.5.0",
            "_model_name": "HTMLModel",
            "_view_count": null,
            "_view_module": "@jupyter-widgets/controls",
            "_view_module_version": "1.5.0",
            "_view_name": "HTMLView",
            "description": "",
            "description_tooltip": null,
            "layout": "IPY_MODEL_4e9d5d9ce12d4dc0aa77e8f8fc710ffe",
            "placeholder": "​",
            "style": "IPY_MODEL_405b7cb7c4074dea8ed2df84f182f343",
            "value": "Downloading: 100%"
          }
        },
        "756daf5df48f49709c1dfee46c2d9c40": {
          "model_module": "@jupyter-widgets/controls",
          "model_name": "FloatProgressModel",
          "model_module_version": "1.5.0",
          "state": {
            "_dom_classes": [],
            "_model_module": "@jupyter-widgets/controls",
            "_model_module_version": "1.5.0",
            "_model_name": "FloatProgressModel",
            "_view_count": null,
            "_view_module": "@jupyter-widgets/controls",
            "_view_module_version": "1.5.0",
            "_view_name": "ProgressView",
            "bar_style": "success",
            "description": "",
            "description_tooltip": null,
            "layout": "IPY_MODEL_9ab6caf9efee4ad79dc0d4a7356336e6",
            "max": 28,
            "min": 0,
            "orientation": "horizontal",
            "style": "IPY_MODEL_3341c2556802407592f95beef9a8891e",
            "value": 28
          }
        },
        "0695317542204775bb9afe34e8eae94d": {
          "model_module": "@jupyter-widgets/controls",
          "model_name": "HTMLModel",
          "model_module_version": "1.5.0",
          "state": {
            "_dom_classes": [],
            "_model_module": "@jupyter-widgets/controls",
            "_model_module_version": "1.5.0",
            "_model_name": "HTMLModel",
            "_view_count": null,
            "_view_module": "@jupyter-widgets/controls",
            "_view_module_version": "1.5.0",
            "_view_name": "HTMLView",
            "description": "",
            "description_tooltip": null,
            "layout": "IPY_MODEL_d0610cde63854a6c9fbb1da0afd2a8e7",
            "placeholder": "​",
            "style": "IPY_MODEL_3b402c01d6114a029f84fb62f1483989",
            "value": " 28.0/28.0 [00:00&lt;00:00, 200B/s]"
          }
        },
        "9025950d181c462394dc38741d62bbd5": {
          "model_module": "@jupyter-widgets/base",
          "model_name": "LayoutModel",
          "model_module_version": "1.2.0",
          "state": {
            "_model_module": "@jupyter-widgets/base",
            "_model_module_version": "1.2.0",
            "_model_name": "LayoutModel",
            "_view_count": null,
            "_view_module": "@jupyter-widgets/base",
            "_view_module_version": "1.2.0",
            "_view_name": "LayoutView",
            "align_content": null,
            "align_items": null,
            "align_self": null,
            "border": null,
            "bottom": null,
            "display": null,
            "flex": null,
            "flex_flow": null,
            "grid_area": null,
            "grid_auto_columns": null,
            "grid_auto_flow": null,
            "grid_auto_rows": null,
            "grid_column": null,
            "grid_gap": null,
            "grid_row": null,
            "grid_template_areas": null,
            "grid_template_columns": null,
            "grid_template_rows": null,
            "height": null,
            "justify_content": null,
            "justify_items": null,
            "left": null,
            "margin": null,
            "max_height": null,
            "max_width": null,
            "min_height": null,
            "min_width": null,
            "object_fit": null,
            "object_position": null,
            "order": null,
            "overflow": null,
            "overflow_x": null,
            "overflow_y": null,
            "padding": null,
            "right": null,
            "top": null,
            "visibility": null,
            "width": null
          }
        },
        "4e9d5d9ce12d4dc0aa77e8f8fc710ffe": {
          "model_module": "@jupyter-widgets/base",
          "model_name": "LayoutModel",
          "model_module_version": "1.2.0",
          "state": {
            "_model_module": "@jupyter-widgets/base",
            "_model_module_version": "1.2.0",
            "_model_name": "LayoutModel",
            "_view_count": null,
            "_view_module": "@jupyter-widgets/base",
            "_view_module_version": "1.2.0",
            "_view_name": "LayoutView",
            "align_content": null,
            "align_items": null,
            "align_self": null,
            "border": null,
            "bottom": null,
            "display": null,
            "flex": null,
            "flex_flow": null,
            "grid_area": null,
            "grid_auto_columns": null,
            "grid_auto_flow": null,
            "grid_auto_rows": null,
            "grid_column": null,
            "grid_gap": null,
            "grid_row": null,
            "grid_template_areas": null,
            "grid_template_columns": null,
            "grid_template_rows": null,
            "height": null,
            "justify_content": null,
            "justify_items": null,
            "left": null,
            "margin": null,
            "max_height": null,
            "max_width": null,
            "min_height": null,
            "min_width": null,
            "object_fit": null,
            "object_position": null,
            "order": null,
            "overflow": null,
            "overflow_x": null,
            "overflow_y": null,
            "padding": null,
            "right": null,
            "top": null,
            "visibility": null,
            "width": null
          }
        },
        "405b7cb7c4074dea8ed2df84f182f343": {
          "model_module": "@jupyter-widgets/controls",
          "model_name": "DescriptionStyleModel",
          "model_module_version": "1.5.0",
          "state": {
            "_model_module": "@jupyter-widgets/controls",
            "_model_module_version": "1.5.0",
            "_model_name": "DescriptionStyleModel",
            "_view_count": null,
            "_view_module": "@jupyter-widgets/base",
            "_view_module_version": "1.2.0",
            "_view_name": "StyleView",
            "description_width": ""
          }
        },
        "9ab6caf9efee4ad79dc0d4a7356336e6": {
          "model_module": "@jupyter-widgets/base",
          "model_name": "LayoutModel",
          "model_module_version": "1.2.0",
          "state": {
            "_model_module": "@jupyter-widgets/base",
            "_model_module_version": "1.2.0",
            "_model_name": "LayoutModel",
            "_view_count": null,
            "_view_module": "@jupyter-widgets/base",
            "_view_module_version": "1.2.0",
            "_view_name": "LayoutView",
            "align_content": null,
            "align_items": null,
            "align_self": null,
            "border": null,
            "bottom": null,
            "display": null,
            "flex": null,
            "flex_flow": null,
            "grid_area": null,
            "grid_auto_columns": null,
            "grid_auto_flow": null,
            "grid_auto_rows": null,
            "grid_column": null,
            "grid_gap": null,
            "grid_row": null,
            "grid_template_areas": null,
            "grid_template_columns": null,
            "grid_template_rows": null,
            "height": null,
            "justify_content": null,
            "justify_items": null,
            "left": null,
            "margin": null,
            "max_height": null,
            "max_width": null,
            "min_height": null,
            "min_width": null,
            "object_fit": null,
            "object_position": null,
            "order": null,
            "overflow": null,
            "overflow_x": null,
            "overflow_y": null,
            "padding": null,
            "right": null,
            "top": null,
            "visibility": null,
            "width": null
          }
        },
        "3341c2556802407592f95beef9a8891e": {
          "model_module": "@jupyter-widgets/controls",
          "model_name": "ProgressStyleModel",
          "model_module_version": "1.5.0",
          "state": {
            "_model_module": "@jupyter-widgets/controls",
            "_model_module_version": "1.5.0",
            "_model_name": "ProgressStyleModel",
            "_view_count": null,
            "_view_module": "@jupyter-widgets/base",
            "_view_module_version": "1.2.0",
            "_view_name": "StyleView",
            "bar_color": null,
            "description_width": ""
          }
        },
        "d0610cde63854a6c9fbb1da0afd2a8e7": {
          "model_module": "@jupyter-widgets/base",
          "model_name": "LayoutModel",
          "model_module_version": "1.2.0",
          "state": {
            "_model_module": "@jupyter-widgets/base",
            "_model_module_version": "1.2.0",
            "_model_name": "LayoutModel",
            "_view_count": null,
            "_view_module": "@jupyter-widgets/base",
            "_view_module_version": "1.2.0",
            "_view_name": "LayoutView",
            "align_content": null,
            "align_items": null,
            "align_self": null,
            "border": null,
            "bottom": null,
            "display": null,
            "flex": null,
            "flex_flow": null,
            "grid_area": null,
            "grid_auto_columns": null,
            "grid_auto_flow": null,
            "grid_auto_rows": null,
            "grid_column": null,
            "grid_gap": null,
            "grid_row": null,
            "grid_template_areas": null,
            "grid_template_columns": null,
            "grid_template_rows": null,
            "height": null,
            "justify_content": null,
            "justify_items": null,
            "left": null,
            "margin": null,
            "max_height": null,
            "max_width": null,
            "min_height": null,
            "min_width": null,
            "object_fit": null,
            "object_position": null,
            "order": null,
            "overflow": null,
            "overflow_x": null,
            "overflow_y": null,
            "padding": null,
            "right": null,
            "top": null,
            "visibility": null,
            "width": null
          }
        },
        "3b402c01d6114a029f84fb62f1483989": {
          "model_module": "@jupyter-widgets/controls",
          "model_name": "DescriptionStyleModel",
          "model_module_version": "1.5.0",
          "state": {
            "_model_module": "@jupyter-widgets/controls",
            "_model_module_version": "1.5.0",
            "_model_name": "DescriptionStyleModel",
            "_view_count": null,
            "_view_module": "@jupyter-widgets/base",
            "_view_module_version": "1.2.0",
            "_view_name": "StyleView",
            "description_width": ""
          }
        },
        "9d566d4282b741fe95649d23b7dbb1a0": {
          "model_module": "@jupyter-widgets/controls",
          "model_name": "HBoxModel",
          "model_module_version": "1.5.0",
          "state": {
            "_dom_classes": [],
            "_model_module": "@jupyter-widgets/controls",
            "_model_module_version": "1.5.0",
            "_model_name": "HBoxModel",
            "_view_count": null,
            "_view_module": "@jupyter-widgets/controls",
            "_view_module_version": "1.5.0",
            "_view_name": "HBoxView",
            "box_style": "",
            "children": [
              "IPY_MODEL_5e2d3d2442ac45e787b0aba7a8276ada",
              "IPY_MODEL_7d77c3da9d784b8aa6d7b6441aab1896",
              "IPY_MODEL_c82ee4df6a5a4df7ba9ad32ad58acc0c"
            ],
            "layout": "IPY_MODEL_98b82a8f3f15467f9359fb878d63d4c3"
          }
        },
        "5e2d3d2442ac45e787b0aba7a8276ada": {
          "model_module": "@jupyter-widgets/controls",
          "model_name": "HTMLModel",
          "model_module_version": "1.5.0",
          "state": {
            "_dom_classes": [],
            "_model_module": "@jupyter-widgets/controls",
            "_model_module_version": "1.5.0",
            "_model_name": "HTMLModel",
            "_view_count": null,
            "_view_module": "@jupyter-widgets/controls",
            "_view_module_version": "1.5.0",
            "_view_name": "HTMLView",
            "description": "",
            "description_tooltip": null,
            "layout": "IPY_MODEL_6bf464863abc404d9fa9159016b4194e",
            "placeholder": "​",
            "style": "IPY_MODEL_5222c679db2246b08e63e4da98c74314",
            "value": "Downloading: 100%"
          }
        },
        "7d77c3da9d784b8aa6d7b6441aab1896": {
          "model_module": "@jupyter-widgets/controls",
          "model_name": "FloatProgressModel",
          "model_module_version": "1.5.0",
          "state": {
            "_dom_classes": [],
            "_model_module": "@jupyter-widgets/controls",
            "_model_module_version": "1.5.0",
            "_model_name": "FloatProgressModel",
            "_view_count": null,
            "_view_module": "@jupyter-widgets/controls",
            "_view_module_version": "1.5.0",
            "_view_name": "ProgressView",
            "bar_style": "success",
            "description": "",
            "description_tooltip": null,
            "layout": "IPY_MODEL_f306861777774549a05d63415daee693",
            "max": 570,
            "min": 0,
            "orientation": "horizontal",
            "style": "IPY_MODEL_850a77d5bf2f44219a539f5fca522592",
            "value": 570
          }
        },
        "c82ee4df6a5a4df7ba9ad32ad58acc0c": {
          "model_module": "@jupyter-widgets/controls",
          "model_name": "HTMLModel",
          "model_module_version": "1.5.0",
          "state": {
            "_dom_classes": [],
            "_model_module": "@jupyter-widgets/controls",
            "_model_module_version": "1.5.0",
            "_model_name": "HTMLModel",
            "_view_count": null,
            "_view_module": "@jupyter-widgets/controls",
            "_view_module_version": "1.5.0",
            "_view_name": "HTMLView",
            "description": "",
            "description_tooltip": null,
            "layout": "IPY_MODEL_44d39e407e674ca0976c74bd098f5232",
            "placeholder": "​",
            "style": "IPY_MODEL_0d6c0c9b415e42b1b87ae546ea3451b4",
            "value": " 570/570 [00:00&lt;00:00, 3.98kB/s]"
          }
        },
        "98b82a8f3f15467f9359fb878d63d4c3": {
          "model_module": "@jupyter-widgets/base",
          "model_name": "LayoutModel",
          "model_module_version": "1.2.0",
          "state": {
            "_model_module": "@jupyter-widgets/base",
            "_model_module_version": "1.2.0",
            "_model_name": "LayoutModel",
            "_view_count": null,
            "_view_module": "@jupyter-widgets/base",
            "_view_module_version": "1.2.0",
            "_view_name": "LayoutView",
            "align_content": null,
            "align_items": null,
            "align_self": null,
            "border": null,
            "bottom": null,
            "display": null,
            "flex": null,
            "flex_flow": null,
            "grid_area": null,
            "grid_auto_columns": null,
            "grid_auto_flow": null,
            "grid_auto_rows": null,
            "grid_column": null,
            "grid_gap": null,
            "grid_row": null,
            "grid_template_areas": null,
            "grid_template_columns": null,
            "grid_template_rows": null,
            "height": null,
            "justify_content": null,
            "justify_items": null,
            "left": null,
            "margin": null,
            "max_height": null,
            "max_width": null,
            "min_height": null,
            "min_width": null,
            "object_fit": null,
            "object_position": null,
            "order": null,
            "overflow": null,
            "overflow_x": null,
            "overflow_y": null,
            "padding": null,
            "right": null,
            "top": null,
            "visibility": null,
            "width": null
          }
        },
        "6bf464863abc404d9fa9159016b4194e": {
          "model_module": "@jupyter-widgets/base",
          "model_name": "LayoutModel",
          "model_module_version": "1.2.0",
          "state": {
            "_model_module": "@jupyter-widgets/base",
            "_model_module_version": "1.2.0",
            "_model_name": "LayoutModel",
            "_view_count": null,
            "_view_module": "@jupyter-widgets/base",
            "_view_module_version": "1.2.0",
            "_view_name": "LayoutView",
            "align_content": null,
            "align_items": null,
            "align_self": null,
            "border": null,
            "bottom": null,
            "display": null,
            "flex": null,
            "flex_flow": null,
            "grid_area": null,
            "grid_auto_columns": null,
            "grid_auto_flow": null,
            "grid_auto_rows": null,
            "grid_column": null,
            "grid_gap": null,
            "grid_row": null,
            "grid_template_areas": null,
            "grid_template_columns": null,
            "grid_template_rows": null,
            "height": null,
            "justify_content": null,
            "justify_items": null,
            "left": null,
            "margin": null,
            "max_height": null,
            "max_width": null,
            "min_height": null,
            "min_width": null,
            "object_fit": null,
            "object_position": null,
            "order": null,
            "overflow": null,
            "overflow_x": null,
            "overflow_y": null,
            "padding": null,
            "right": null,
            "top": null,
            "visibility": null,
            "width": null
          }
        },
        "5222c679db2246b08e63e4da98c74314": {
          "model_module": "@jupyter-widgets/controls",
          "model_name": "DescriptionStyleModel",
          "model_module_version": "1.5.0",
          "state": {
            "_model_module": "@jupyter-widgets/controls",
            "_model_module_version": "1.5.0",
            "_model_name": "DescriptionStyleModel",
            "_view_count": null,
            "_view_module": "@jupyter-widgets/base",
            "_view_module_version": "1.2.0",
            "_view_name": "StyleView",
            "description_width": ""
          }
        },
        "f306861777774549a05d63415daee693": {
          "model_module": "@jupyter-widgets/base",
          "model_name": "LayoutModel",
          "model_module_version": "1.2.0",
          "state": {
            "_model_module": "@jupyter-widgets/base",
            "_model_module_version": "1.2.0",
            "_model_name": "LayoutModel",
            "_view_count": null,
            "_view_module": "@jupyter-widgets/base",
            "_view_module_version": "1.2.0",
            "_view_name": "LayoutView",
            "align_content": null,
            "align_items": null,
            "align_self": null,
            "border": null,
            "bottom": null,
            "display": null,
            "flex": null,
            "flex_flow": null,
            "grid_area": null,
            "grid_auto_columns": null,
            "grid_auto_flow": null,
            "grid_auto_rows": null,
            "grid_column": null,
            "grid_gap": null,
            "grid_row": null,
            "grid_template_areas": null,
            "grid_template_columns": null,
            "grid_template_rows": null,
            "height": null,
            "justify_content": null,
            "justify_items": null,
            "left": null,
            "margin": null,
            "max_height": null,
            "max_width": null,
            "min_height": null,
            "min_width": null,
            "object_fit": null,
            "object_position": null,
            "order": null,
            "overflow": null,
            "overflow_x": null,
            "overflow_y": null,
            "padding": null,
            "right": null,
            "top": null,
            "visibility": null,
            "width": null
          }
        },
        "850a77d5bf2f44219a539f5fca522592": {
          "model_module": "@jupyter-widgets/controls",
          "model_name": "ProgressStyleModel",
          "model_module_version": "1.5.0",
          "state": {
            "_model_module": "@jupyter-widgets/controls",
            "_model_module_version": "1.5.0",
            "_model_name": "ProgressStyleModel",
            "_view_count": null,
            "_view_module": "@jupyter-widgets/base",
            "_view_module_version": "1.2.0",
            "_view_name": "StyleView",
            "bar_color": null,
            "description_width": ""
          }
        },
        "44d39e407e674ca0976c74bd098f5232": {
          "model_module": "@jupyter-widgets/base",
          "model_name": "LayoutModel",
          "model_module_version": "1.2.0",
          "state": {
            "_model_module": "@jupyter-widgets/base",
            "_model_module_version": "1.2.0",
            "_model_name": "LayoutModel",
            "_view_count": null,
            "_view_module": "@jupyter-widgets/base",
            "_view_module_version": "1.2.0",
            "_view_name": "LayoutView",
            "align_content": null,
            "align_items": null,
            "align_self": null,
            "border": null,
            "bottom": null,
            "display": null,
            "flex": null,
            "flex_flow": null,
            "grid_area": null,
            "grid_auto_columns": null,
            "grid_auto_flow": null,
            "grid_auto_rows": null,
            "grid_column": null,
            "grid_gap": null,
            "grid_row": null,
            "grid_template_areas": null,
            "grid_template_columns": null,
            "grid_template_rows": null,
            "height": null,
            "justify_content": null,
            "justify_items": null,
            "left": null,
            "margin": null,
            "max_height": null,
            "max_width": null,
            "min_height": null,
            "min_width": null,
            "object_fit": null,
            "object_position": null,
            "order": null,
            "overflow": null,
            "overflow_x": null,
            "overflow_y": null,
            "padding": null,
            "right": null,
            "top": null,
            "visibility": null,
            "width": null
          }
        },
        "0d6c0c9b415e42b1b87ae546ea3451b4": {
          "model_module": "@jupyter-widgets/controls",
          "model_name": "DescriptionStyleModel",
          "model_module_version": "1.5.0",
          "state": {
            "_model_module": "@jupyter-widgets/controls",
            "_model_module_version": "1.5.0",
            "_model_name": "DescriptionStyleModel",
            "_view_count": null,
            "_view_module": "@jupyter-widgets/base",
            "_view_module_version": "1.2.0",
            "_view_name": "StyleView",
            "description_width": ""
          }
        }
      }
    }
  },
  "nbformat": 4,
  "nbformat_minor": 0
}